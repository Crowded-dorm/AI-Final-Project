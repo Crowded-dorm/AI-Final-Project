{
 "cells": [
  {
   "cell_type": "code",
   "execution_count": null,
   "metadata": {},
   "outputs": [],
   "source": [
    "!nvidia-smi"
   ]
  },
  {
   "cell_type": "code",
   "execution_count": null,
   "metadata": {},
   "outputs": [],
   "source": [
    "import torch\n",
    "torch.cuda.is_available()"
   ]
  },
  {
   "cell_type": "code",
   "execution_count": null,
   "metadata": {},
   "outputs": [],
   "source": [
    "!pip install hydra-core # You may restart Runtime to continue"
   ]
  },
  {
   "cell_type": "code",
   "execution_count": null,
   "metadata": {},
   "outputs": [],
   "source": [
    "%cd /content/\n",
    "%rm -rf AI-Final-Project\n",
    "!git clone https://github.com/Crowded-dorm/AI-Final-Project.git\n",
    "%cd /content/AI-Final-Project"
   ]
  },
  {
   "cell_type": "code",
   "execution_count": null,
   "metadata": {},
   "outputs": [],
   "source": [
    "!pip install -r requirements.txt # You may restart Runtime to continue"
   ]
  },
  {
   "cell_type": "code",
   "execution_count": null,
   "metadata": {},
   "outputs": [],
   "source": [
    "%cd /content/AI-Final-Project/\n",
    "!wget https://www.cmlab.csie.ntu.edu.tw/~yulunliu/pretrained_models.zip\n",
    "!unzip pretrained_models.zip"
   ]
  },
  {
   "cell_type": "code",
   "execution_count": null,
   "metadata": {},
   "outputs": [],
   "source": [
    "%cd /content/AI-Final-Project/RAFT\n",
    "!bash download_models.sh"
   ]
  },
  {
   "cell_type": "code",
   "execution_count": null,
   "metadata": {},
   "outputs": [],
   "source": [
    "%cd /content/AI-Final-Project\n",
    "pattern = \"panda\"\n",
    "!python demo_v3.py -p $pattern -m"
   ]
  },
  {
   "cell_type": "code",
   "execution_count": null,
   "metadata": {},
   "outputs": [],
   "source": [
    "# Note that this requires imageio==2.29.0 to make the gif move\n",
    "from IPython.display import Image\n",
    "\n",
    "Image(url='...')  # external\n",
    "fname = '/content/AI-Final-Project/outputs/{pattern}/motion_sculpture/result.gif'\n",
    "Image(open(fname, 'rb').read())  # local"
   ]
  }
 ],
 "metadata": {
  "language_info": {
   "name": "python"
  },
  "orig_nbformat": 4
 },
 "nbformat": 4,
 "nbformat_minor": 2
}
