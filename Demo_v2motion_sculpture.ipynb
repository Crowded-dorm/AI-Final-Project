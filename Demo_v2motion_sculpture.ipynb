{
  "cells": [
    {
      "attachments": {},
      "cell_type": "markdown",
      "metadata": {
        "colab_type": "text",
        "id": "view-in-github"
      },
      "source": [
        "<a href=\"https://colab.research.google.com/github/Crowded-dorm/AI-Final-Project/blob/main/Demo_v2motion_sculpture.ipynb\" target=\"_parent\"><img src=\"https://colab.research.google.com/assets/colab-badge.svg\" alt=\"Open In Colab\"/></a>"
      ]
    },
    {
      "cell_type": "code",
      "execution_count": null,
      "metadata": {
        "id": "asrsag82o7bX"
      },
      "outputs": [],
      "source": [
        "!nvidia-smi"
      ]
    },
    {
      "cell_type": "code",
      "execution_count": null,
      "metadata": {
        "id": "21zLcXMOo7be"
      },
      "outputs": [],
      "source": [
        "import torch\n",
        "torch.cuda.is_available()"
      ]
    },
    {
      "cell_type": "code",
      "execution_count": null,
      "metadata": {
        "id": "lajXvANCo7bf"
      },
      "outputs": [],
      "source": [
        "!pip install hydra-core # You may restart Runtime to continue"
      ]
    },
    {
      "cell_type": "code",
      "execution_count": null,
      "metadata": {
        "id": "1SvxtNBto7bf"
      },
      "outputs": [],
      "source": [
        "%cd /content/\n",
        "%rm -rf AI-Final-Project\n",
        "!git clone https://github.com/Crowded-dorm/AI-Final-Project.git\n",
        "%cd /content/AI-Final-Project/"
      ]
    },
    {
      "cell_type": "code",
      "execution_count": null,
      "metadata": {
        "id": "y4bG-9v-o7bg"
      },
      "outputs": [],
      "source": [
        "!pip install -r requirements.txt # You may restart Runtime to continue"
      ]
    },
    {
      "cell_type": "code",
      "execution_count": null,
      "metadata": {
        "id": "tBjGuCy0o7bg"
      },
      "outputs": [],
      "source": [
        "%cd /content/AI-Final-Project/RAFT\n",
        "!bash download_models.sh"
      ]
    },
    {
      "cell_type": "code",
      "execution_count": null,
      "metadata": {
        "id": "4x7K4v0yo7bh"
      },
      "outputs": [],
      "source": [
        "%cd /content/AI-Final-Project\n",
        "config = \"custom_dataset/panda.json\"\n",
        "!python demo_v2motion_sculpture.py -c $config -m"
      ]
    },
    {
      "cell_type": "code",
      "execution_count": null,
      "metadata": {
        "id": "UWoVKihho7bl"
      },
      "outputs": [],
      "source": [
        "# Note that this requires imageio==2.29.0 to make the gif move\n",
        "from IPython.display import Image\n",
        "\n",
        "Image(url='...')  # external\n",
        "fname = '/content/AI-Final-Project/outputs/panda/motion_sculpture/result.gif'\n",
        "Image(open(fname, 'rb').read())  # local"
      ]
    }
  ],
  "metadata": {
    "colab": {
      "include_colab_link": true,
      "provenance": []
    },
    "language_info": {
      "name": "python"
    },
    "orig_nbformat": 4
  },
  "nbformat": 4,
  "nbformat_minor": 0
}
