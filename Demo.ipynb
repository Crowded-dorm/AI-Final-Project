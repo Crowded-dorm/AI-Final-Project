{
  "nbformat": 4,
  "nbformat_minor": 0,
  "metadata": {
    "colab": {
      "provenance": [],
      "authorship_tag": "ABX9TyMQlOqlElXTV4rn7s7U8sdP",
      "include_colab_link": true
    },
    "kernelspec": {
      "name": "python3",
      "display_name": "Python 3"
    },
    "language_info": {
      "name": "python"
    }
  },
  "cells": [
    {
      "cell_type": "markdown",
      "metadata": {
        "id": "view-in-github",
        "colab_type": "text"
      },
      "source": [
        "<a href=\"https://colab.research.google.com/github/Crowded-dorm/AI-Final-Project/blob/main/Video_Synthesis_With_Near_Duplicate_Images.ipynb\" target=\"_parent\"><img src=\"https://colab.research.google.com/assets/colab-badge.svg\" alt=\"Open In Colab\"/></a>"
      ]
    },
    {
      "cell_type": "code",
      "execution_count": null,
      "metadata": {
        "id": "Gw3OueuRUNk5"
      },
      "outputs": [],
      "source": [
        "%cd /content/\n",
        "%rm -rf AI-Final-Project\n",
        "!git clone https://github.com/Crowded-dorm/AI-Final-Project.git\n",
        "%cd /content/AI-Final-Project/\n",
        "#!pip install -r requirement.txt"
      ]
    },
    {
      "cell_type": "code",
      "source": [
        "from interact import selectSourceImage\n",
        "from ai import findNearDuplicateImages"
      ],
      "metadata": {
        "id": "Dk2AvdvuUTNK"
      },
      "execution_count": null,
      "outputs": []
    },
    {
      "cell_type": "code",
      "source": [
        "def getImgList(folder_path: str):\n",
        "  raise \"Not implemented!\""
      ],
      "metadata": {
        "id": "TzXGimarUWoX"
      },
      "execution_count": null,
      "outputs": []
    },
    {
      "cell_type": "code",
      "source": [
        "folder_path = 'assets'\n",
        "img_arr = getImgList(folder_path)\n",
        "img = selectSourceImage(img_arr)\n",
        "choices = findNearDuplicateImages(img)"
      ],
      "metadata": {
        "id": "ReXlwtg-UYiQ"
      },
      "execution_count": null,
      "outputs": []
    }
  ]
}
